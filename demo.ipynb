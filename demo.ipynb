{
 "cells": [
  {
   "cell_type": "markdown",
   "metadata": {},
   "source": [
    "### Before Starting the Demo: Adjust the Path\n",
    "To execute the demo successfully, update the placeholders \"/path/to\" within the cells and scripts and ensure that they reflect the correct paths on your system. Adjust the paths accordingly to match the directory structure on your machine (see `README.md`)."
   ]
  },
  {
   "cell_type": "markdown",
   "metadata": {},
   "source": [
    "### Single-step Retrosynthesis Evaluation (Table 1)\n",
    "READRetro adopts the ensemble of Retroformer and Graph2SMILES as the single-step retrosyntheis model.<br>\n",
    "To prepare the trained single-step retrosynthesis model, choose one of the following:\n",
    "\n",
    "* We provide the trained models through [Zenodo](https://zenodo.org/records/10495132).\n",
    "* You can use your own models trained using the official codes (https://github.com/yuewan2/Retroformer and https://github.com/coleygroup/Graph2SMILES). You have to download the official codes and set conda environment for training in other datasets.\n",
    "\n",
    "In this section of the demo, we provide the details to train the models from scratch including the baselines."
   ]
  },
  {
   "cell_type": "code",
   "execution_count": null,
   "metadata": {},
   "outputs": [],
   "source": [
    "# 1 Preprocessing\n",
    "# Preprocess the other dataset for training\n",
    "# Use a script READRetro/scripts/preprocessing/preprocessing.ipynb"
   ]
  },
  {
   "cell_type": "code",
   "execution_count": null,
   "metadata": {},
   "outputs": [],
   "source": [
    "# 2 Training\n",
    "\n",
    "# 2-1 BioNavi-NP (in BioChem + USPTO_NPL clean)\n",
    "# Key scripts: config.yaml\n",
    "# You may train your data by changing the /path/to in config.yaml and wd in scripts to your data path\n",
    "wd = '/path/to/READRetro/scripts/singlestep_eval/bionavi/clean'\n",
    "! cd $wd && \\\n",
    "    mkdir run && \\\n",
    "    sed -i 's|/path/to|/your/path|g' config.yaml && \\\n",
    "    onmt_build_vocab -config config.yaml && \\\n",
    "    onmt_train -config config.yaml"
   ]
  },
  {
   "cell_type": "code",
   "execution_count": null,
   "metadata": {},
   "outputs": [],
   "source": [
    "# 2-2 Graph2SMILES (in BioChem + USPTO_NPL clean)\n",
    "# Key scripts: clean_preprocess.sh, clean_train_g2s.sh\n",
    "g2s = '/path/to/Graph2SMILES'\n",
    "wd = '/path/to/READRetro/scripts/singlestep_eval/g2s/clean'\n",
    "! cd $g2s && \\\n",
    "    bash $wd/clean_preprocess.sh && \\\n",
    "    bash $wd/clean_train_g2s.sh"
   ]
  },
  {
   "cell_type": "code",
   "execution_count": null,
   "metadata": {},
   "outputs": [],
   "source": [
    "# 2-3 Retroformer (in BioChem + USPTO_NPL clean)\n",
    "# Key scripts: train.sh\n",
    "retroformer = '/path/to/Retroformer'\n",
    "wd = '/path/to/READRetro/scripts/singlestep_eval/retroformer/clean'\n",
    "! cd $retroformer && \\\n",
    "    bash $wd/train.sh"
   ]
  },
  {
   "cell_type": "code",
   "execution_count": null,
   "metadata": {},
   "outputs": [],
   "source": [
    "# 3 Running & Evaluation\n",
    "\n",
    "# 3-1 BioNavi-NP\n",
    "# Key scripts: singlestep_eval.py (fxn: evaluate)\n",
    "from rdkit import RDLogger\n",
    "lg = RDLogger.logger()\n",
    "lg.setLevel(4)\n",
    "from scripts.singlestep_eval.singlestep_eval import read_txt, remove_chiral, evaluate\n",
    "\n",
    "# BioChem + USPTO_NPL (clean)\n",
    "wd = '/path/to/READRetro/scripts/singlestep_eval/bionavi/clean'\n",
    "! onmt_translate -model $wd/model_step_30000.pt $wd/model_step_50000.pt $wd/model_step_80000.pt $wd/model_step_100000.pt \\\n",
    "    -output $wd/results.txt \\\n",
    "    -src $wd/src-test.txt \\\n",
    "    --batch_size 64 --max_length 200 --replace_unk -beam_size 10 -n_best 10 -gpu 0\n",
    "predP = f'{wd}/results.txt'\n",
    "tgt_path = f'{wd}/tgt-test.txt'\n",
    "tgt = read_txt(tgt_path)\n",
    "tgt = [remove_chiral(each.replace(' ', ''),atomMap=False) for each in tgt]\n",
    "print(evaluate(tgt,predP, AM=False))\n",
    "\n",
    "# BioChem + USPTO_NPL\n",
    "wd = '/path/to/READRetro/scripts/singlestep_eval/bionavi/biochem'\n",
    "! onmt_translate -model $wd/model_step_30000.pt $wd/model_step_50000.pt $wd/model_step_80000.pt $wd/model_step_100000.pt \\\n",
    "    -output $wd/results.txt \\\n",
    "    -src $wd/src-test.txt \\\n",
    "    --batch_size 64 --max_length 200 --replace_unk -beam_size 10 -n_best 10 -gpu 0\n",
    "\n",
    "predP = f'{wd}/results.txt'\n",
    "tgt_path = f'{wd}/tgt-test.txt'\n",
    "tgt = read_txt(tgt_path)\n",
    "tgt = [remove_chiral(each.replace(' ', ''),atomMap=False) for each in tgt]\n",
    "print(evaluate(tgt,predP, AM=False))"
   ]
  },
  {
   "cell_type": "code",
   "execution_count": null,
   "metadata": {},
   "outputs": [],
   "source": [
    "# 3-2 Graph2SMILES\n",
    "# Key scripts: eval.sh\n",
    "\n",
    "# BioChem + USPTO_NPL (clean)\n",
    "base = '/path/to/READRetro'\n",
    "wd = '/path/to/READRetro/scripts/singlestep_eval/g2s'\n",
    "! cd $base && \\\n",
    "    export path=$wd/clean/checkpoints/clean_g2s_series_rel_dgcn.1/model.72000_0.pt && \\\n",
    "    export vocab_path=$wd/clean/vocab_smiles.txt && \\\n",
    "    bash $wd/eval.sh\n",
    "\n",
    "# BioChem + USPTO_NPL\n",
    "! cd $base && \\\n",
    "    export path=$wd/biochem/model.84000_0.pt && \\\n",
    "    export vocab_path=$wd/biochem/vocab_smiles.txt && \\\n",
    "    bash $wd/eval.sh"
   ]
  },
  {
   "cell_type": "code",
   "execution_count": null,
   "metadata": {},
   "outputs": [],
   "source": [
    "# 3-3 Retroformer\n",
    "# Key scripts: eval.sh\n",
    "\n",
    "# BioChem + USPTO_NPL (clean)\n",
    "wd = '/path/to/READRetro/scripts/singlestep_eval/retroformer'\n",
    "! export path=$wd/clean/ckpt_untyped/model_1600000.pt && \\\n",
    "    export vocab_path=$wd/clean/intermediates/vocab_share.pk && \\\n",
    "    bash $wd/eval.sh\n",
    "\n",
    "# BioChem + USPTO_NPL\n",
    "! export path=$wd/biochem/ckpt_untyped/model_1600000.pt && \\\n",
    "    export vocab_path=$wd/biochem/intermediates/vocab_share.pk && \\\n",
    "    bash $wd/eval.sh"
   ]
  },
  {
   "cell_type": "code",
   "execution_count": null,
   "metadata": {},
   "outputs": [],
   "source": [
    "# 3-4 Retroformer + Graph2SMILES\n",
    "# Key scripts: eval.sh\n",
    "\n",
    "# BioChem + USPTO_NPL (clean)\n",
    "wd = '/path/to/READRetro/scripts/singlestep_eval/ensemble'\n",
    "g2s = '/path/to/READRetro/scripts/singlestep_eval/g2s/clean'\n",
    "rf = '/path/to/READRetro/scripts/singlestep_eval/retroformer/clean'\n",
    "! export path=$rf/ckpt_untyped/model_1600000.pt,$g2s/checkpoints/clean_g2s_series_rel_dgcn.1/model.72000_0.pt && \\\n",
    "    export vocab_path=$rf/intermediates/vocab_share.pk,$g2s/vocab_smiles.txt && \\\n",
    "    bash $wd/eval.sh\n",
    "\n",
    "# BioChem + USPTO_NPL\n",
    "g2s = '/path/to/READRetro/scripts/singlestep_eval/g2s/biochem'\n",
    "rf = '/path/to/READRetro/scripts/singlestep_eval/retroformer/biochem'\n",
    "! export path=$rf/ckpt_untyped/model_1600000.pt,$g2s/model.84000_0.pt && \\\n",
    "    export vocab_path=$rf/intermediates/vocab_share.pk,$g2s/vocab_smiles.txt && \\\n",
    "    bash $wd/eval.sh"
   ]
  },
  {
   "cell_type": "markdown",
   "metadata": {},
   "source": [
    "### Multi-step Retrosynthesis Evaluation (Table 2)\n",
    "\n",
    "Place the checkpoints of the single-step retrosynthesis models (either downloaded from Zenodo or trained from scratch) under the folders `retroformer/saved_models` and `g2s/saved_models`.<br>\n",
    "Before prediction, set the `save_file` argument in `run_mp.py` properly.<br>\n",
    "Adjust the `num_thread` argument in `run_mp.py` according to the capacity of your GPU."
   ]
  },
  {
   "cell_type": "code",
   "execution_count": null,
   "metadata": {},
   "outputs": [],
   "source": [
    "# 1 Prediction\n",
    "\n",
    "# 1-1 Retroformer\n",
    "# BioChem + USPTO_NPL (clean)\n",
    "wd = '/path/to/READRetro/scripts/multistep_eval'\n",
    "! export model_type=retroformer && \\\n",
    "    export model_path='retroformer/saved_models/clean.pt' && \\\n",
    "    bash $wd/predict.sh\n",
    "\n",
    "# BioChem + USPTO_NPL\n",
    "! export model_type=retroformer && \\\n",
    "    export model_path='retroformer/saved_models/biochem.pt' && \\\n",
    "    bash $wd/predict.sh"
   ]
  },
  {
   "cell_type": "code",
   "execution_count": null,
   "metadata": {},
   "outputs": [],
   "source": [
    "# 1-2 Graph2SMILES\n",
    "# BioChem + USPTO_NPL (clean)\n",
    "wd = '/path/to/READRetro/scripts/multistep_eval'\n",
    "! export model_type=g2s && \\\n",
    "    export model_path='g2s/saved_models/clean.pt' && \\\n",
    "    bash $wd/predict.sh\n",
    "\n",
    "# BioChem + USPTO_NPL\n",
    "! export model_type=g2s && \\\n",
    "    export model_path='g2s/saved_models/biochem.pt' && \\\n",
    "    bash $wd/predict.sh"
   ]
  },
  {
   "cell_type": "code",
   "execution_count": null,
   "metadata": {},
   "outputs": [],
   "source": [
    "# 1-3 READRetro w/o reaction retriever\n",
    "# BioChem + USPTO_NPL\n",
    "wd = '/path/to/READRetro/scripts/multistep_eval'\n",
    "! bash $wd/predict_wo_retriever.sh"
   ]
  },
  {
   "cell_type": "code",
   "execution_count": null,
   "metadata": {},
   "outputs": [],
   "source": [
    "# 1-4 READRetro\n",
    "# BioChem + USPTO_NPL (clean)\n",
    "wd = '/path/to/READRetro/scripts/multistep_eval'\n",
    "! export model_type=ensemble && \\\n",
    "    export model_path='retroformer/saved_models/clean.pt,g2s/saved_models/clean.pt' && \\\n",
    "    bash $wd/predict.sh\n",
    "\n",
    "# BioChem + USPTO_NPL\n",
    "! export model_type=ensemble && \\\n",
    "    export model_path='retroformer/saved_models/biochem.pt,g2s/saved_models/biochem.pt' && \\\n",
    "    bash $wd/predict.sh"
   ]
  },
  {
   "cell_type": "code",
   "execution_count": null,
   "metadata": {},
   "outputs": [],
   "source": [
    "# 2 Evaluation\n",
    "# Before evaluation, adjust the `save_file` argument below.\n",
    "\n",
    "wd = '/path/to/READRetro/scripts/multistep_eval'\n",
    "! export save_file='result/debug.txt' && \\\n",
    "    export product_class='all' && \\\n",
    "    bash $wd/eval.sh"
   ]
  },
  {
   "cell_type": "markdown",
   "metadata": {},
   "source": [
    "### Multi-step Retrosynthesis Evaluation by Chemical Classes (Figure 2)"
   ]
  },
  {
   "cell_type": "code",
   "execution_count": null,
   "metadata": {},
   "outputs": [],
   "source": [
    "# Before evaluation, adjust the `save_file` argument below.\n",
    "# Adjust the `product_class` argument below.\n",
    "\n",
    "wd = '/path/to/READRetro/scripts/multistep_eval'\n",
    "! export save_file='result/debug.txt' && \\\n",
    "    export product_class='Amino' && \\\n",
    "    bash $wd/eval.sh"
   ]
  },
  {
   "cell_type": "markdown",
   "metadata": {},
   "source": [
    "### Case Examples of READRetro (Figure 3, Supplementary Figures 4, 7, and 9)\n",
    "\n",
    "To conduct case studies using READRetro, follow these steps:\n",
    "\n",
    "Run the provided script for the case study, `READRetro/scripts/casestudy.sh` </br>\n",
    "Note: Change line 2 of casestudy.sh to your Anaconda3 directory.\n",
    "\n",
    "Alternatively, run each line separately by executing the commands manually.\n",
    "\n",
    "Draw the pathways using a chemical sketch tool such as ChemDraw.<br>\n",
    "You can use web-based chemical sketch tools like [RSCB Chemical Sketch Tool](https://www.rcsb.org/chemical-sketch).<br>\n",
    "These tools may draw pathways as dot-separated chemicals (e.g., CCCC.CCOC.CCC). You can represent pathways by converting the pathway results into dot-separated SMILES."
   ]
  },
  {
   "cell_type": "code",
   "execution_count": null,
   "metadata": {},
   "outputs": [],
   "source": [
    "! scripts/casestudy.sh"
   ]
  },
  {
   "cell_type": "markdown",
   "metadata": {},
   "source": [
    "### Single-step Retrosynthesis Evaluation of Various Models (Supplementary Table 1)\n",
    "Model: BioNavi-NP, R-SMILES, Graph2SMILES, GraphRetro, MEGAN, MHNreact, Retroformer, Retroformer + Graph2SMILES</br>\n",
    "You must download the official codes and set virtual environments for running [GraphRetro](https://github.com/vsomnath/graphretro), [Megan](https://github.com/molecule-one/megan), and [MHNreact](https://github.com/ml-jku/mhn-react/tree/main).\n",
    "\n",
    "Note: Evaluation of BioNavi-NP, Graph2SMILES, Retroformer, Retroforemr was decribed above (Single-step Retrosynthesis Evaluation (Table 1))."
   ]
  },
  {
   "cell_type": "code",
   "execution_count": null,
   "metadata": {},
   "outputs": [],
   "source": [
    "from rdkit import RDLogger\n",
    "lg = RDLogger.logger()\n",
    "lg.setLevel(4)"
   ]
  },
  {
   "cell_type": "code",
   "execution_count": null,
   "metadata": {},
   "outputs": [],
   "source": [
    "# R-SMILES\n",
    "wd = '/path/to/READRetro/scripts/singlestep_eval/rsmiles'\n",
    "from scripts.singlestep_eval.singlestep_eval import read_txt, remove_chiral, evaluate\n",
    "\n",
    "! onmt_translate -model $wd/model_step_80000.pt \\\n",
    "    -output $wd/results.txt \\\n",
    "    -src $wd/src-test.txt \\\n",
    "    --batch_size 64 --max_length 200 --replace_unk -beam_size 10 -n_best 10 -gpu 0\n",
    "\n",
    "predP = f'{wd}/results.txt'\n",
    "tgt_path = f'{wd}/tgt-test.txt'\n",
    "tgt = read_txt(tgt_path)\n",
    "tgt = [remove_chiral(each.replace(' ', ''),atomMap=False) for each in tgt]\n",
    "evaluate(tgt,predP, AM=False)"
   ]
  },
  {
   "cell_type": "code",
   "execution_count": null,
   "metadata": {},
   "outputs": [],
   "source": [
    "# GraphRetro\n",
    "wd='/path/to/READRetro/scripts/singlestep_eval/graphretro'\n",
    "graphretro='/path/to/graphretro'\n",
    "! source /path/to/anaconda3/etc/profile.d/conda.sh && \\\n",
    "    conda activate graphretro && \\\n",
    "    cd $graphretro && \\\n",
    "    python scripts/eval/single_edit_lg.py \\\n",
    "        --exp_dir . --edits_exp $wd/edit_prediction \\\n",
    "        --edits_step best_model --lg_exp $wd/lg_clasifier --lg_step best_model"
   ]
  },
  {
   "cell_type": "code",
   "execution_count": null,
   "metadata": {},
   "outputs": [],
   "source": [
    "# MEGAN\n",
    "wd='/path/to/READRetro/scripts/singlestep_eval/megan'\n",
    "megan='/path/to/megan'\n",
    "! source /path/to/anaconda3/etc/profile.d/conda.sh && \\\n",
    "    conda activate megan && \\\n",
    "    cd $wd && \\\n",
    "    source env.sh && \\\n",
    "    python bin/eval.py $wd/past_biochem --beam-size 10 \\\n",
    "        --dataset-key biochem --dataset-path $wd/past_biochem --ckpt model_best.pt"
   ]
  },
  {
   "cell_type": "code",
   "execution_count": null,
   "metadata": {},
   "outputs": [],
   "source": [
    "# MHNreact\n",
    "wd='/path/to/READRetro/scripts/singlestep_eval/mhnreact'\n",
    "# change the wd, and mhn_react in the evaluation.py\n",
    "! source /path/to/anaconda3/etc/profile.d/conda.sh && \\\n",
    "    conda activate mhnreact_env && \\\n",
    "    cd $wd && \\\n",
    "    python evaluation.py"
   ]
  },
  {
   "cell_type": "markdown",
   "metadata": {},
   "source": [
    "### Single-step Retrosynthesis Evaluation in five train-test splits (Supplementary Table 2)\n",
    "Model: BioNavi-NP, Graph2SMILES, Retroformer, and Ensemble </br>\n",
    "Training and Evaluating method are same to above. </br>\n",
    "The dataset splits (biochem_star_1, 2, 3, and 4) and the checkpoints are in `/path/to/READRetro/scripts/crossval`."
   ]
  },
  {
   "cell_type": "markdown",
   "metadata": {},
   "source": [
    "### The Average Number of Pathways (Supplementary Table 4)\n",
    "Use the scripts eval_npath.py with argument: paths of a predicted result file and a ground truth file."
   ]
  },
  {
   "cell_type": "code",
   "execution_count": null,
   "metadata": {},
   "outputs": [],
   "source": [
    "!cd /path/to/READRetro/scripts/pathnum && \\\n",
    "    python eval_npath.py debug.txt test_gt.txt && \\\n",
    "    python eval_npath.py retroformer_pathnum test_gt.txt && \\\n",
    "    python eval_npath.py g2s_pathnum test_gt.txt"
   ]
  },
  {
   "cell_type": "markdown",
   "metadata": {},
   "source": [
    "### Evaluation with the LASER dataset (Supplementary Table 5)\n",
    "\n",
    "Note: You can evaluate Graph2SMILES and Retroformer on the LASER dataset by setting the `model_type` and `model_path` arguments as described in Multi-step Retrosynthesis Evaluation (Table 2)."
   ]
  },
  {
   "cell_type": "code",
   "execution_count": null,
   "metadata": {},
   "outputs": [],
   "source": [
    "wd = '/path/to/READRetro/scripts/multistep_eval'\n",
    "! bash $wd/predict_laser.sh"
   ]
  }
 ],
 "metadata": {
  "kernelspec": {
   "display_name": "dualretro",
   "language": "python",
   "name": "python3"
  },
  "language_info": {
   "codemirror_mode": {
    "name": "ipython",
    "version": 3
   },
   "file_extension": ".py",
   "mimetype": "text/x-python",
   "name": "python",
   "nbconvert_exporter": "python",
   "pygments_lexer": "ipython3",
   "version": "3.8.16"
  }
 },
 "nbformat": 4,
 "nbformat_minor": 2
}
